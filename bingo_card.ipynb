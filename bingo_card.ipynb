{
 "cells": [
  {
   "cell_type": "code",
   "execution_count": 178,
   "id": "5d112d72",
   "metadata": {},
   "outputs": [],
   "source": [
    "import tkinter as tk\n",
    "import tkinter.ttk as ttk\n",
    "import random"
   ]
  },
  {
   "cell_type": "code",
   "execution_count": 179,
   "id": "4857344e",
   "metadata": {},
   "outputs": [
    {
     "name": "stdout",
     "output_type": "stream",
     "text": [
      "[[5, 3, 4, 15, 14], [17, 22, 20, 16, 18], [33, 43, 'o', 38, 45], [52, 55, 57, 53, 49], [73, 66, 68, 70, 67]]\n"
     ]
    }
   ],
   "source": [
    "patern = []        # カード全体の数値を格納\n",
    "for i in range(5):\n",
    "  l = []\n",
    "  min = 1 + (i*15)  # その列がとれる最小値を計算\n",
    "  for j in range(5):\n",
    "    while 1:        # 異なる数値が出るまで繰り返し\n",
    "      ran = random.randint(min,min+14)\n",
    "      if ran not in l:\n",
    "        l.append(ran)\n",
    "        break\n",
    "  patern.append(l)\n",
    "patern[2][2] = \"o\"\n",
    "\n",
    "print(patern)"
   ]
  },
  {
   "cell_type": "code",
   "execution_count": 180,
   "id": "959acfc7",
   "metadata": {},
   "outputs": [],
   "source": [
    "def push(taisyo):\n",
    "    taisyo.config(state=tk.DISABLED)"
   ]
  },
  {
   "cell_type": "code",
   "execution_count": 181,
   "id": "2edcfcf1",
   "metadata": {},
   "outputs": [
    {
     "data": {
      "text/plain": [
       "''"
      ]
     },
     "execution_count": 181,
     "metadata": {},
     "output_type": "execute_result"
    }
   ],
   "source": [
    "# メインウィンドウの作成\n",
    "root = tk.Tk()\n",
    "root.title(\"ビンゴのカード生成システム Ver1\")\n",
    "root.geometry(\"650x400\")"
   ]
  },
  {
   "cell_type": "code",
   "execution_count": 182,
   "id": "1a838346",
   "metadata": {},
   "outputs": [],
   "source": [
    "# メインフレームの作成\n",
    "frame = ttk.Frame(root,relief=tk.SOLID)\n",
    "frame.pack(expand=True,fill=tk.BOTH)"
   ]
  },
  {
   "cell_type": "code",
   "execution_count": 183,
   "id": "297edb0d",
   "metadata": {},
   "outputs": [],
   "source": [
    "title = [\"B\",\"I\",\"N\",\"G\",\"O\"]\n",
    "for i in range(len(title)):\n",
    "    label = tk.Label(frame,text=title[i],font=(\"MSゴシック\",\"30\",\"bold\"))\n",
    "    label.grid(column=i,row=0,pady=5)"
   ]
  },
  {
   "cell_type": "code",
   "execution_count": 184,
   "id": "93ddfcb7",
   "metadata": {},
   "outputs": [],
   "source": [
    "for i in range(len(patern)):\n",
    "    for j in range(len(patern)):\n",
    "        button = tk.Button(frame,text=patern[i][j],width=7,height=2)\n",
    "        button.config(command=lambda b=button: push(b))\n",
    "        button.grid(column=i,row=j+1,padx=10,pady=10,sticky=\"nsew\")\n",
    "        \n",
    "    frame.grid_columnconfigure(i, weight=1)\n",
    "    frame.grid_rowconfigure(i+1, weight=1)"
   ]
  },
  {
   "cell_type": "code",
   "execution_count": 185,
   "id": "0a570314",
   "metadata": {},
   "outputs": [],
   "source": [
    "root.mainloop()"
   ]
  }
 ],
 "metadata": {
  "kernelspec": {
   "display_name": "Python 3 (ipykernel)",
   "language": "python",
   "name": "python3"
  },
  "language_info": {
   "codemirror_mode": {
    "name": "ipython",
    "version": 3
   },
   "file_extension": ".py",
   "mimetype": "text/x-python",
   "name": "python",
   "nbconvert_exporter": "python",
   "pygments_lexer": "ipython3",
   "version": "3.10.9"
  }
 },
 "nbformat": 4,
 "nbformat_minor": 5
}
